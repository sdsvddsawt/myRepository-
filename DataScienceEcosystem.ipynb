{
 "cells": [
  {
   "cell_type": "markdown",
   "id": "7eee429bbdd81d16",
   "metadata": {
    "collapsed": false,
    "jupyter": {
     "outputs_hidden": false
    }
   },
   "source": [
    "# Data science Tools and Ecosystem"
   ]
  },
  {
   "cell_type": "markdown",
   "id": "a41fb917aa7b74c",
   "metadata": {
    "collapsed": false,
    "jupyter": {
     "outputs_hidden": false
    }
   },
   "source": [
    "In this notebook, Data Science Tools and Ecosystem are summarized."
   ]
  },
  {
   "cell_type": "markdown",
   "id": "681f3b0013edcc2d",
   "metadata": {
    "collapsed": false,
    "jupyter": {
     "outputs_hidden": false
    }
   },
   "source": [
    "**Objectives:**\n",
    "- Understand the basic concepts and applications of data science\n",
    "- Master popular programming languages for data science, such as Python, R\n",
    "- Familiarize with key tools and libraries in data science, such as Pandas, NumPy, scikit-learn, and TensorFlow\n",
    "- Learn data visualization techniques and master at least one visualization tool, like Matplotlib or Seaborn\n",
    "- Be able to use Jupyter Notebook or similar tools for data science experiments and analysis\n",
    "- Understand the applications of data science in various industries and be able to identify potential data science projects\n",
    "- Master basic knowledge of statistics and probability theory to better understand concepts and models in data science\n",
    "- Develop problem-solving and critical thinking skills to effectively handle challenges in data science\n"
   ]
  },
  {
   "cell_type": "markdown",
   "id": "e4985b5c1f81fe34",
   "metadata": {
    "collapsed": false,
    "jupyter": {
     "outputs_hidden": false
    }
   },
   "source": [
    "**Some of the popular languages that Data Scientists use are:**\n",
    "\n",
    "1. **Python:** Known for its simplicity and readability, Python is the most widely used language in data science. It offers a vast ecosystem of libraries and frameworks like Pandas, NumPy, scikit-learn, TensorFlow, and PyTorch that are crucial for data manipulation, machine learning, and deep learning.\n",
    "2. **R:** Specifically designed for statistical analysis and graphics, R is another popular language among data scientists. It has a rich repository of packages like ggplot2, dplyr, and caret that are widely used for data visualization, manipulation, and modeling.\n",
    "3. **SQL:** As a standard language for relational database management systems, SQL is essential for data scientists to retrieve, manipulate, and store data. Its ability to handle large datasets efficiently makes it a valuable skill for data analysis and business intelligence.\n",
    "4. **Julia:** A relatively new language, Julia is gaining popularity in the data science community for its high performance and ease of use. It is particularly useful for numerical computations and has packages like DataFrames, JuliaDB, and Flux for data manipulation, storage, and machine learning."
   ]
  },
  {
   "cell_type": "markdown",
   "id": "9b439346b666e2b8",
   "metadata": {
    "collapsed": false,
    "jupyter": {
     "outputs_hidden": false
    }
   },
   "source": [
    "**Some of the commonly used libraries by Data Scientists include:**\n",
    "\n",
    "1. **Pandas:** A powerful and flexible library for data manipulation and analysis in Python. It provides data structures and functions that make it easy to handle structured data, such as CSV files or SQL databases.\n",
    "2. **NumPy:** A fundamental package for scientific computing in Python. It provides support for large, multi-dimensional arrays and matrices, along with a collection of mathematical functions to operate on these arrays.\n",
    "3. **scikit-learn:** A machine learning library for Python that provides simple and efficient tools for data analysis and modeling. It is widely used for tasks like classification, regression, clustering, and dimensionality reduction.\n",
    "4. **TensorFlow:** An open-source machine learning framework developed by Google. It is widely used for deep learning applications, providing a comprehensive ecosystem of tools, libraries, and community resources."
   ]
  },
  {
   "cell_type": "markdown",
   "id": "4ee7bc30d9819649",
   "metadata": {
    "collapsed": false,
    "jupyter": {
     "outputs_hidden": false
    }
   },
   "source": [
    "| Data Science Tools |\n",
    "|--------------------|\n",
    "| Jupyter Notebook   |\n",
    "| Spyder             |\n",
    "| Pycharm            |\n"
   ]
  },
  {
   "cell_type": "markdown",
   "id": "b86cbcac6447029b",
   "metadata": {
    "collapsed": false,
    "jupyter": {
     "outputs_hidden": false
    }
   },
   "source": [
    "### Below are a few examples of evaluating arithmetic expressions in Python"
   ]
  },
  {
   "cell_type": "code",
   "execution_count": 1,
   "id": "d1c36581-7d0d-4c6e-991b-29866248fc83",
   "metadata": {},
   "outputs": [
    {
     "data": {
      "text/plain": [
       "17"
      ]
     },
     "execution_count": 1,
     "metadata": {},
     "output_type": "execute_result"
    }
   ],
   "source": [
    "# This is a simple arithmetic expression to mutiply and then add integers\n",
    "(3*4)+5"
   ]
  },
  {
   "cell_type": "code",
   "execution_count": 5,
   "id": "b60fe6ee795a1b",
   "metadata": {
    "ExecuteTime": {
     "end_time": "2024-05-28T14:28:11.881451Z",
     "start_time": "2024-05-28T14:28:11.875480Z"
    },
    "collapsed": false,
    "jupyter": {
     "outputs_hidden": false
    }
   },
   "outputs": [
    {
     "data": {
      "text/plain": [
       "3.33"
      ]
     },
     "execution_count": 5,
     "metadata": {},
     "output_type": "execute_result"
    }
   ],
   "source": [
    "# This will convert 200 minutes to hours by diving by 60\n",
    "\n",
    "def minutes_to_hours(minutes):\n",
    "    \"\"\"Convert minutes to hours.\"\"\"\n",
    "    return round(minutes / 60,2)\n",
    "\n",
    "minutes = 200\n",
    "hours = minutes_to_hours(minutes)\n",
    "hours"
   ]
  },
  {
   "cell_type": "markdown",
   "id": "5858b7e6eeca2e1b",
   "metadata": {
    "collapsed": false,
    "jupyter": {
     "outputs_hidden": false
    }
   },
   "source": [
    "## Author\n",
    "Bingyi Li"
   ]
  }
 ],
 "metadata": {
  "kernelspec": {
   "display_name": "Python 3 (ipykernel)",
   "language": "python",
   "name": "python3"
  },
  "language_info": {
   "codemirror_mode": {
    "name": "ipython",
    "version": 3
   },
   "file_extension": ".py",
   "mimetype": "text/x-python",
   "name": "python",
   "nbconvert_exporter": "python",
   "pygments_lexer": "ipython3",
   "version": "3.11.7"
  },
  "widgets": {
   "application/vnd.jupyter.widget-state+json": {
    "state": {},
    "version_major": 2,
    "version_minor": 0
   }
  }
 },
 "nbformat": 4,
 "nbformat_minor": 5
}
